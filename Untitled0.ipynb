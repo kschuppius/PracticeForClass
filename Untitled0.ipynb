{
  "nbformat": 4,
  "nbformat_minor": 0,
  "metadata": {
    "colab": {
      "name": "Untitled0.ipynb",
      "provenance": [],
      "authorship_tag": "ABX9TyNqiIiKHNnJWGsuYKH1MBQK",
      "include_colab_link": true
    },
    "kernelspec": {
      "name": "python3",
      "display_name": "Python 3"
    }
  },
  "cells": [
    {
      "cell_type": "markdown",
      "metadata": {
        "id": "view-in-github",
        "colab_type": "text"
      },
      "source": [
        "<a href=\"https://colab.research.google.com/github/kschuppius/PracticeForClass/blob/master/Untitled0.ipynb\" target=\"_parent\"><img src=\"https://colab.research.google.com/assets/colab-badge.svg\" alt=\"Open In Colab\"/></a>"
      ]
    },
    {
      "cell_type": "markdown",
      "metadata": {
        "id": "8-gYp0ZgOe4R",
        "colab_type": "text"
      },
      "source": [
        "##Do you like using Jupyter Notebooks?\n"
      ]
    },
    {
      "cell_type": "markdown",
      "metadata": {
        "id": "IV-1wCLJOrGx",
        "colab_type": "text"
      },
      "source": [
        "Yes I think Jupyter notebooks is pretty cool.  Ive never used it in any of my other classes so its nice to finally learn how to use a new application. "
      ]
    },
    {
      "cell_type": "markdown",
      "metadata": {
        "id": "3o9Nyis5PHn4",
        "colab_type": "text"
      },
      "source": [
        "##What do you want to learn more about in Jupyter Notebooks?"
      ]
    },
    {
      "cell_type": "markdown",
      "metadata": {
        "id": "4p1wXx9YPQjD",
        "colab_type": "text"
      },
      "source": [
        "I havent really explored the application so Im not sure what there is to learn but I am opened to any and everything.  Just excited to learn more and be an expert on this application by the end of the semester !\n",
        "\n"
      ]
    },
    {
      "cell_type": "markdown",
      "metadata": {
        "id": "dMLaGnA_R6G1",
        "colab_type": "text"
      },
      "source": [
        "![fav singer](https://raw.githubusercontent.com/kschuppius/PracticeForClass/master/Images/fav%20singer.jpeg)"
      ]
    }
  ]
}